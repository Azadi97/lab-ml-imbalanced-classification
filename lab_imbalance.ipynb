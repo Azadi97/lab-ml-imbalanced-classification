{
 "cells": [
  {
   "cell_type": "markdown",
   "id": "480c7271",
   "metadata": {},
   "source": [
    "### ROUND 1"
   ]
  },
  {
   "cell_type": "code",
   "execution_count": 265,
   "id": "daed85fd",
   "metadata": {},
   "outputs": [],
   "source": [
    "import pandas as pd\n",
    "from sklearn.model_selection import train_test_split\n",
    "from sklearn.preprocessing import MinMaxScaler, StandardScaler\n",
    "from sklearn.linear_model import LogisticRegression\n",
    "from sklearn.metrics import accuracy_score, precision_score, recall_score\n",
    "from sklearn.neighbors import KNeighborsClassifier\n",
    "from sklearn.tree import DecisionTreeClassifier\n",
    "from sklearn.model_selection import cross_val_score\n",
    "from sklearn.ensemble import RandomForestClassifier\n",
    "from matplotlib import pyplot as plt"
   ]
  },
  {
   "cell_type": "code",
   "execution_count": 266,
   "id": "e308219d",
   "metadata": {},
   "outputs": [
    {
     "data": {
      "text/html": [
       "<div>\n",
       "<style scoped>\n",
       "    .dataframe tbody tr th:only-of-type {\n",
       "        vertical-align: middle;\n",
       "    }\n",
       "\n",
       "    .dataframe tbody tr th {\n",
       "        vertical-align: top;\n",
       "    }\n",
       "\n",
       "    .dataframe thead th {\n",
       "        text-align: right;\n",
       "    }\n",
       "</style>\n",
       "<table border=\"1\" class=\"dataframe\">\n",
       "  <thead>\n",
       "    <tr style=\"text-align: right;\">\n",
       "      <th></th>\n",
       "      <th>gender</th>\n",
       "      <th>SeniorCitizen</th>\n",
       "      <th>Partner</th>\n",
       "      <th>Dependents</th>\n",
       "      <th>tenure</th>\n",
       "      <th>PhoneService</th>\n",
       "      <th>OnlineSecurity</th>\n",
       "      <th>OnlineBackup</th>\n",
       "      <th>DeviceProtection</th>\n",
       "      <th>TechSupport</th>\n",
       "      <th>StreamingTV</th>\n",
       "      <th>StreamingMovies</th>\n",
       "      <th>Contract</th>\n",
       "      <th>MonthlyCharges</th>\n",
       "      <th>TotalCharges</th>\n",
       "      <th>Churn</th>\n",
       "    </tr>\n",
       "  </thead>\n",
       "  <tbody>\n",
       "    <tr>\n",
       "      <th>0</th>\n",
       "      <td>Female</td>\n",
       "      <td>0</td>\n",
       "      <td>Yes</td>\n",
       "      <td>No</td>\n",
       "      <td>1</td>\n",
       "      <td>No</td>\n",
       "      <td>No</td>\n",
       "      <td>Yes</td>\n",
       "      <td>No</td>\n",
       "      <td>No</td>\n",
       "      <td>No</td>\n",
       "      <td>No</td>\n",
       "      <td>Month-to-month</td>\n",
       "      <td>29.85</td>\n",
       "      <td>29.85</td>\n",
       "      <td>No</td>\n",
       "    </tr>\n",
       "    <tr>\n",
       "      <th>1</th>\n",
       "      <td>Male</td>\n",
       "      <td>0</td>\n",
       "      <td>No</td>\n",
       "      <td>No</td>\n",
       "      <td>34</td>\n",
       "      <td>Yes</td>\n",
       "      <td>Yes</td>\n",
       "      <td>No</td>\n",
       "      <td>Yes</td>\n",
       "      <td>No</td>\n",
       "      <td>No</td>\n",
       "      <td>No</td>\n",
       "      <td>One year</td>\n",
       "      <td>56.95</td>\n",
       "      <td>1889.5</td>\n",
       "      <td>No</td>\n",
       "    </tr>\n",
       "    <tr>\n",
       "      <th>2</th>\n",
       "      <td>Male</td>\n",
       "      <td>0</td>\n",
       "      <td>No</td>\n",
       "      <td>No</td>\n",
       "      <td>2</td>\n",
       "      <td>Yes</td>\n",
       "      <td>Yes</td>\n",
       "      <td>Yes</td>\n",
       "      <td>No</td>\n",
       "      <td>No</td>\n",
       "      <td>No</td>\n",
       "      <td>No</td>\n",
       "      <td>Month-to-month</td>\n",
       "      <td>53.85</td>\n",
       "      <td>108.15</td>\n",
       "      <td>Yes</td>\n",
       "    </tr>\n",
       "    <tr>\n",
       "      <th>3</th>\n",
       "      <td>Male</td>\n",
       "      <td>0</td>\n",
       "      <td>No</td>\n",
       "      <td>No</td>\n",
       "      <td>45</td>\n",
       "      <td>No</td>\n",
       "      <td>Yes</td>\n",
       "      <td>No</td>\n",
       "      <td>Yes</td>\n",
       "      <td>Yes</td>\n",
       "      <td>No</td>\n",
       "      <td>No</td>\n",
       "      <td>One year</td>\n",
       "      <td>42.30</td>\n",
       "      <td>1840.75</td>\n",
       "      <td>No</td>\n",
       "    </tr>\n",
       "    <tr>\n",
       "      <th>4</th>\n",
       "      <td>Female</td>\n",
       "      <td>0</td>\n",
       "      <td>No</td>\n",
       "      <td>No</td>\n",
       "      <td>2</td>\n",
       "      <td>Yes</td>\n",
       "      <td>No</td>\n",
       "      <td>No</td>\n",
       "      <td>No</td>\n",
       "      <td>No</td>\n",
       "      <td>No</td>\n",
       "      <td>No</td>\n",
       "      <td>Month-to-month</td>\n",
       "      <td>70.70</td>\n",
       "      <td>151.65</td>\n",
       "      <td>Yes</td>\n",
       "    </tr>\n",
       "  </tbody>\n",
       "</table>\n",
       "</div>"
      ],
      "text/plain": [
       "   gender  SeniorCitizen Partner Dependents  tenure PhoneService  \\\n",
       "0  Female              0     Yes         No       1           No   \n",
       "1    Male              0      No         No      34          Yes   \n",
       "2    Male              0      No         No       2          Yes   \n",
       "3    Male              0      No         No      45           No   \n",
       "4  Female              0      No         No       2          Yes   \n",
       "\n",
       "  OnlineSecurity OnlineBackup DeviceProtection TechSupport StreamingTV  \\\n",
       "0             No          Yes               No          No          No   \n",
       "1            Yes           No              Yes          No          No   \n",
       "2            Yes          Yes               No          No          No   \n",
       "3            Yes           No              Yes         Yes          No   \n",
       "4             No           No               No          No          No   \n",
       "\n",
       "  StreamingMovies        Contract  MonthlyCharges TotalCharges Churn  \n",
       "0              No  Month-to-month           29.85        29.85    No  \n",
       "1              No        One year           56.95       1889.5    No  \n",
       "2              No  Month-to-month           53.85       108.15   Yes  \n",
       "3              No        One year           42.30      1840.75    No  \n",
       "4              No  Month-to-month           70.70       151.65   Yes  "
      ]
     },
     "execution_count": 266,
     "metadata": {},
     "output_type": "execute_result"
    }
   ],
   "source": [
    "churnData = pd.read_csv('DATA_customer-churn.txt')\n",
    "churnData.head()\n"
   ]
  },
  {
   "cell_type": "code",
   "execution_count": null,
   "id": "90f4037b",
   "metadata": {},
   "outputs": [],
   "source": []
  },
  {
   "cell_type": "code",
   "execution_count": 267,
   "id": "24d5b4bd",
   "metadata": {},
   "outputs": [
    {
     "data": {
      "text/plain": [
       "gender               object\n",
       "SeniorCitizen         int64\n",
       "Partner              object\n",
       "Dependents           object\n",
       "tenure                int64\n",
       "PhoneService         object\n",
       "OnlineSecurity       object\n",
       "OnlineBackup         object\n",
       "DeviceProtection     object\n",
       "TechSupport          object\n",
       "StreamingTV          object\n",
       "StreamingMovies      object\n",
       "Contract             object\n",
       "MonthlyCharges      float64\n",
       "TotalCharges         object\n",
       "Churn                object\n",
       "dtype: object"
      ]
     },
     "execution_count": 267,
     "metadata": {},
     "output_type": "execute_result"
    }
   ],
   "source": [
    "# Check the datatypes of all the columns in the data.You would see that the column TotalCharges is object type. \n",
    "# Convert this column into numeric type using pd.to_numeric function.\n",
    "\n",
    "churnData.dtypes"
   ]
  },
  {
   "cell_type": "code",
   "execution_count": 268,
   "id": "bf382b11",
   "metadata": {},
   "outputs": [],
   "source": [
    "churnData['TotalCharges'] = pd.to_numeric(churnData['TotalCharges'], errors='coerce')\n"
   ]
  },
  {
   "cell_type": "code",
   "execution_count": 269,
   "id": "e3663bdb",
   "metadata": {},
   "outputs": [
    {
     "data": {
      "text/plain": [
       "0"
      ]
     },
     "execution_count": 269,
     "metadata": {},
     "output_type": "execute_result"
    }
   ],
   "source": [
    "# Check for null values in the dataframe. Replace the null values.\n",
    "\n",
    "mean_value = churnData['TotalCharges'].mean()\n",
    "churnData['TotalCharges'].fillna(mean_value, inplace=True)\n",
    "churnData['TotalCharges'].isna().sum()"
   ]
  },
  {
   "cell_type": "code",
   "execution_count": 270,
   "id": "c414df1d",
   "metadata": {},
   "outputs": [
    {
     "data": {
      "text/plain": [
       "0    5174\n",
       "1    1869\n",
       "Name: Churn, dtype: int64"
      ]
     },
     "execution_count": 270,
     "metadata": {},
     "output_type": "execute_result"
    }
   ],
   "source": [
    "# Change Churn to 0 or 1 instead of yes or no to avoid errors in furhter steps.\n",
    "\n",
    "churnData['Churn'] = churnData['Churn'].apply(lambda x: 1 if x == 'Yes' else 0)\n",
    "churnData['Churn'].head()\n",
    "\n",
    "churnData['Churn'].value_counts()"
   ]
  },
  {
   "cell_type": "code",
   "execution_count": 287,
   "id": "514a8218",
   "metadata": {},
   "outputs": [],
   "source": [
    "# Use the following features: tenure, SeniorCitizen, MonthlyCharges and TotalCharges:\n",
    "# - Split the data into a training set and a test set.\n",
    "# - Scale the features either by using MinMaxScaler or a standard scaler.\n",
    "\n",
    "X = churnData[['tenure', 'SeniorCitizen', 'MonthlyCharges', 'TotalCharges']]\n",
    "y = churnData['Churn']\n",
    "\n",
    "\n",
    "X_train, X_test, y_train, y_test = train_test_split(X, y, test_size=0.2, random_state=42)\n",
    "\n",
    "\n",
    "scaler = StandardScaler().fit(X_train)\n",
    "X_train_scaled = pd.DataFrame(scaler.transform(X_train),columns=X.columns)\n",
    "X_test_scaled = pd.DataFrame(scaler.transform(X_test),columns=X.columns)\n",
    "\n",
    "y\n",
    "\n",
    "# X_test_scaled = pd.DataFrame(scaler.transform(X_test),columns=X.columns)\n"
   ]
  },
  {
   "cell_type": "code",
   "execution_count": 309,
   "id": "fc0b9971",
   "metadata": {},
   "outputs": [
    {
     "data": {
      "text/plain": [
       "5634"
      ]
     },
     "execution_count": 309,
     "metadata": {},
     "output_type": "execute_result"
    }
   ],
   "source": [
    "len(y_train.reset_index(drop=True))"
   ]
  },
  {
   "cell_type": "markdown",
   "id": "8d9e1918",
   "metadata": {},
   "source": [
    "### ROUND 2"
   ]
  },
  {
   "cell_type": "code",
   "execution_count": 288,
   "id": "1321801e",
   "metadata": {},
   "outputs": [
    {
     "name": "stdout",
     "output_type": "stream",
     "text": [
      "accuracy on the test set: 0.7875399361022364\n",
      "precision on the test set: 0.6455696202531646\n",
      "recall on the test set: 0.4431818181818182\n"
     ]
    }
   ],
   "source": [
    "# (Optional) Fit a logistic Regression model on the training data.\n",
    "\n",
    "logistic_model = LogisticRegression(random_state=42)\n",
    "logistic_model.fit(X_train_scaled, y_train)\n",
    "\n",
    "# Predict\n",
    "logistic_train_pred = logistic_model.predict(X_train_scaled)\n",
    "\n",
    "logistic_train_accuracy = accuracy_score(y_train, logistic_train_pred)\n",
    "logistic_train_precision = precision_score(y_train, logistic_train_pred)\n",
    "logistic_train_recall = recall_score(y_train, logistic_train_pred)\n",
    "\n",
    "\n",
    "print(f'accuracy on the test set: {logistic_train_accuracy}')\n",
    "print(f'precision on the test set: {logistic_train_precision}')\n",
    "print(f'recall on the test set: {logistic_train_recall}')\n"
   ]
  },
  {
   "cell_type": "code",
   "execution_count": 289,
   "id": "249ed2bb",
   "metadata": {},
   "outputs": [
    {
     "name": "stdout",
     "output_type": "stream",
     "text": [
      "Accuracy on the test set: 0.7344692935747249\n",
      "precision on the test set: 0.0\n",
      "recall on the test set: 0.0\n"
     ]
    },
    {
     "name": "stderr",
     "output_type": "stream",
     "text": [
      "C:\\Users\\A.S.A\\anaconda3\\lib\\site-packages\\sklearn\\metrics\\_classification.py:1497: UndefinedMetricWarning: Precision is ill-defined and being set to 0.0 due to no predicted samples. Use `zero_division` parameter to control this behavior.\n",
      "  _warn_prf(average, modifier, f\"{metric.capitalize()} is\", len(result))\n"
     ]
    }
   ],
   "source": [
    "# Fit a Knn Classifier (NOT KnnRegressor please!)model on the training data.\n",
    "\n",
    "knn_model = KNeighborsClassifier(n_neighbors=5)\n",
    "knn_model.fit(X_train, y_train)\n",
    "\n",
    "knn_train_pred = knn_model.predict(X_train_scaled)\n",
    "\n",
    "knn_train_accuracy = accuracy_score(y_train, knn_train_pred)\n",
    "knn_train_precision = precision_score(y_train, knn_train_pred)\n",
    "knn_train_recall = recall_score(y_train, knn_train_pred)\n",
    "\n",
    "\n",
    "print(f'Accuracy on the test set: {knn_train_accuracy}')\n",
    "print(f'precision on the test set: {knn_train_precision}')\n",
    "print(f'recall on the test set: {knn_train_recall}')"
   ]
  },
  {
   "cell_type": "code",
   "execution_count": 290,
   "id": "5c50c238",
   "metadata": {},
   "outputs": [
    {
     "name": "stdout",
     "output_type": "stream",
     "text": [
      "Accuracy on the test set: 0.7067802626908058\n",
      "precision on the test set: 0.4139072847682119\n",
      "recall on the test set: 0.25066844919786097\n"
     ]
    }
   ],
   "source": [
    "# Fit a Decision Tree Classifier on the training data.\n",
    "\n",
    "dtree_model = DecisionTreeClassifier(random_state=42)\n",
    "\n",
    "dtree_model.fit(X_train, y_train)\n",
    "\n",
    "dtree_train_pred = dtree_model.predict(X_train_scaled)\n",
    "\n",
    "dtree_train_accuracy = accuracy_score(y_train, dtree_train_pred)\n",
    "dtree_train_precision = precision_score(y_train, dtree_train_pred)\n",
    "dtree_train_recall = recall_score(y_train, dtree_train_pred)\n",
    "\n",
    "\n",
    "print(f'Accuracy on the test set: {dtree_train_accuracy}')\n",
    "print(f'precision on the test set: {dtree_train_precision}')\n",
    "print(f'recall on the test set: {dtree_train_recall}')"
   ]
  },
  {
   "cell_type": "code",
   "execution_count": 291,
   "id": "bb63710d",
   "metadata": {},
   "outputs": [
    {
     "name": "stdout",
     "output_type": "stream",
     "text": [
      "                      Model  Accuracy  Precision    Recall\n",
      "0       Logistic Regression  0.803407   0.692000  0.463807\n",
      "1  K Nearest Neighbour(knn)  0.735273   0.000000  0.000000\n",
      "2             Decision Tree  0.711143   0.427966  0.270777\n"
     ]
    }
   ],
   "source": [
    "# Compare the accuracy, precision, recall for the previous models on both the train and test sets.\n",
    "\n",
    "metrics_dict = {\n",
    "    'Model': ['Logistic Regression', 'K Nearest Neighbour(knn)', 'Decision Tree'],\n",
    "    'Accuracy': [logistic_accuracy, knn_accuracy, dtree_accuracy],\n",
    "    'Precision': [logistic_precision, knn_precision, dtree_precision],\n",
    "    'Recall': [logistic_recall, knn_recall, dtree_recall]\n",
    "}\n",
    "\n",
    "tain_metrics = pd.DataFrame(metrics_dict)\n",
    "\n",
    "print(tain_metrics)"
   ]
  },
  {
   "cell_type": "code",
   "execution_count": 292,
   "id": "06de4aff",
   "metadata": {},
   "outputs": [
    {
     "name": "stdout",
     "output_type": "stream",
     "text": [
      "                      Model  Accuracy  Precision    Recall\n",
      "0       Logistic Regression  0.803407   0.692000  0.463807\n",
      "1  K Nearest Neighbour(knn)  0.735273   0.000000  0.000000\n",
      "2             Decision Tree  0.711143   0.427966  0.270777\n"
     ]
    },
    {
     "name": "stderr",
     "output_type": "stream",
     "text": [
      "C:\\Users\\A.S.A\\anaconda3\\lib\\site-packages\\sklearn\\metrics\\_classification.py:1497: UndefinedMetricWarning: Precision is ill-defined and being set to 0.0 due to no predicted samples. Use `zero_division` parameter to control this behavior.\n",
      "  _warn_prf(average, modifier, f\"{metric.capitalize()} is\", len(result))\n"
     ]
    }
   ],
   "source": [
    "# accuracy, precision and recall on test sets\n",
    "\n",
    "logistic_test_pred = logistic_model.predict(X_test_scaled)\n",
    "knn_test_pred = knn_model.predict(X_test_scaled)\n",
    "dtree_test_pred = dtree_model.predict(X_test_scaled)\n",
    "\n",
    "logistic_test_accuracy = accuracy_score(y_test, logistic_test_pred)\n",
    "logistic_test_precision = precision_score(y_test, logistic_test_pred)\n",
    "logistic_test_recall = recall_score(y_test, logistic_test_pred)\n",
    "\n",
    "knn_test_accuracy = accuracy_score(y_test, knn_test_pred)\n",
    "knn_test_precision = precision_score(y_test, knn_test_pred)\n",
    "knn_test_recall = recall_score(y_test, knn_test_pred)\n",
    "\n",
    "dtree_test_accuracy = accuracy_score(y_test, dtree_test_pred)\n",
    "dtree_test_precision = precision_score(y_test, dtree_test_pred)\n",
    "dtree_test_recall = recall_score(y_test, dtree_test_pred)\n",
    "\n",
    "\n",
    "metrics_dict = {\n",
    "    'Model': ['Logistic Regression', 'K Nearest Neighbour(knn)', 'Decision Tree'],\n",
    "    'Accuracy': [logistic_accuracy, knn_accuracy, dtree_accuracy],\n",
    "    'Precision': [logistic_precision, knn_precision, dtree_precision],\n",
    "    'Recall': [logistic_recall, knn_recall, dtree_recall]\n",
    "}\n",
    "\n",
    "test_metrics = pd.DataFrame(metrics_dict)\n",
    "\n",
    "print(test_metrics)\n"
   ]
  },
  {
   "cell_type": "code",
   "execution_count": 293,
   "id": "44a451fc",
   "metadata": {},
   "outputs": [
    {
     "name": "stdout",
     "output_type": "stream",
     "text": [
      "Train Metrics\n",
      "                      Model  Accuracy  Precision    Recall\n",
      "0       Logistic Regression  0.803407   0.692000  0.463807\n",
      "1  K Nearest Neighbour(knn)  0.735273   0.000000  0.000000\n",
      "2             Decision Tree  0.711143   0.427966  0.270777\n",
      " \n",
      "Test Metrics\n",
      "                      Model  Accuracy  Precision    Recall\n",
      "0       Logistic Regression  0.803407   0.692000  0.463807\n",
      "1  K Nearest Neighbour(knn)  0.735273   0.000000  0.000000\n",
      "2             Decision Tree  0.711143   0.427966  0.270777\n"
     ]
    }
   ],
   "source": [
    "print(\"Train Metrics\")\n",
    "print(tain_metrics)\n",
    "print(\" \")\n",
    "print(\"Test Metrics\")\n",
    "print(test_metrics)"
   ]
  },
  {
   "cell_type": "markdown",
   "id": "10237c71",
   "metadata": {},
   "source": [
    "### ROUND 3"
   ]
  },
  {
   "cell_type": "code",
   "execution_count": 294,
   "id": "1c5c2df8",
   "metadata": {},
   "outputs": [
    {
     "name": "stdout",
     "output_type": "stream",
     "text": [
      "LR Cross-Validation Scores: [0.80035492 0.78793256 0.77196096 0.79680568 0.77886323]\n",
      "Mean Accuracy: 0.7871834717360573 \n",
      "\n",
      "KNN Cross-Validation Scores: [0.77462289 0.7755102  0.7595386  0.74800355 0.75754885]\n",
      "Mean Accuracy: 0.7630448178962681 \n",
      "\n",
      "DT Cross-Validation Scores: [0.72138421 0.72049689 0.71251109 0.72404614 0.71136767]\n",
      "Mean Accuracy: 0.7179612010067753\n"
     ]
    }
   ],
   "source": [
    "# apply K-fold cross validation on your models built before,  and check the model score. Note: So far we have not balanced the data.\n",
    "\n",
    "# Assuming you have X_train and y_train already defined\n",
    "\n",
    "# Logistic Regression\n",
    "logistic_model = LogisticRegression(random_state=42)\n",
    "logistic_scores = cross_val_score(logistic_model, X_train, y_train, cv=5)  # You can adjust the number of folds (cv) as needed\n",
    "print(f'LR Cross-Validation Scores: {logistic_scores}')\n",
    "print(f'Mean Accuracy: {logistic_scores.mean()} \\n')\n",
    "\n",
    "# K-nearest Neighbors (KNN)\n",
    "knn_model = KNeighborsClassifier(n_neighbors=5)\n",
    "knn_scores = cross_val_score(knn_model, X_train, y_train, cv=5)\n",
    "print(f'KNN Cross-Validation Scores: {knn_scores}')\n",
    "print(f'Mean Accuracy: {knn_scores.mean()} \\n')\n",
    "\n",
    "# Decision Tree\n",
    "dtree_model = DecisionTreeClassifier(random_state=42)\n",
    "dtree_scores = cross_val_score(dtree_model, X_train, y_train, cv=5)\n",
    "print(f'DT Cross-Validation Scores: {dtree_scores}')\n",
    "print(f'Mean Accuracy: {dtree_scores.mean()}')\n",
    "\n"
   ]
  },
  {
   "cell_type": "markdown",
   "id": "25d65335",
   "metadata": {},
   "source": [
    "### ROUND 4"
   ]
  },
  {
   "cell_type": "code",
   "execution_count": 295,
   "id": "31f44d7e",
   "metadata": {},
   "outputs": [
    {
     "name": "stdout",
     "output_type": "stream",
     "text": [
      "accuracy: 0.7721788502484032\n"
     ]
    }
   ],
   "source": [
    "# fit a Random forest Classifier on the data and compare the accuracy.\n",
    "\n",
    "rf_model = RandomForestClassifier(n_estimators=100)\n",
    "\n",
    "rf_model.fit(X_train_scaled, y_train)\n",
    "\n",
    "rf_pred = rf_model.predict(X_test_scaled)\n",
    "\n",
    "rf_accuracy = accuracy_score(y_test, rf_pred)\n",
    "\n",
    "print(f\"accuracy: {rf_accuracy}\")\n"
   ]
  },
  {
   "cell_type": "code",
   "execution_count": 238,
   "id": "f14035b1",
   "metadata": {},
   "outputs": [
    {
     "name": "stdout",
     "output_type": "stream",
     "text": [
      "Best Hyperparameters: {'max_depth': 10, 'min_samples_leaf': 4, 'min_samples_split': 15, 'n_estimators': 25}\n",
      "accuracy: 0.8034066713981547\n"
     ]
    }
   ],
   "source": [
    "\n",
    "# from sklearn.model_selection import GridSearchCV\n",
    "\n",
    "# # Define the parameter grid to search (IT MIGHT TAKE 5-10 MINUTES TO PROCESS)\n",
    "# param_grid = {\n",
    "#     'n_estimators': [25, 50, 100, 150],\n",
    "#     'max_depth': [None, 10, 15, 20],\n",
    "#     'min_samples_split': [2, 5, 10, 15],\n",
    "#     'min_samples_leaf': [1, 2, 4, 6]\n",
    "# }\n",
    "\n",
    "# grid_search = GridSearchCV(rf_model, param_grid, cv=5, scoring='accuracy')\n",
    "# grid_search.fit(X_train_scaled, y_train)\n",
    "\n",
    "# # Display the best hyperparameters\n",
    "# best_params = grid_search.best_params_\n",
    "# print(\"Best Hyperparameters:\", best_params)\n",
    "\n",
    "\n",
    "# # ACCURACY AFTER OPTIMAL HYPERPARAMETERS\n",
    "\n",
    "# rf_model = RandomForestClassifier(n_estimators=best_params['n_estimators'], \n",
    "#                                   max_depth=best_params['max_depth'], \n",
    "#                                   min_samples_leaf=best_params['min_samples_leaf'], \n",
    "#                                   min_samples_split=best_params['min_samples_split'], \n",
    "#                                   random_state=42)\n",
    "\n",
    "# rf_model.fit(X_train_scaled, y_train)\n",
    "\n",
    "# rf_pred = rf_model.predict(X_test_scaled)\n",
    "\n",
    "# rf_accuracy = accuracy_score(y_test, rf_pred)\n",
    "\n",
    "# print(f\"accuracy: {rf_accuracy}\")\n",
    "\n"
   ]
  },
  {
   "cell_type": "code",
   "execution_count": 242,
   "id": "3d520c8c",
   "metadata": {},
   "outputs": [
    {
     "data": {
      "text/plain": [
       "25"
      ]
     },
     "execution_count": 242,
     "metadata": {},
     "output_type": "execute_result"
    }
   ],
   "source": [
    "best_params['n_estimators']"
   ]
  },
  {
   "cell_type": "markdown",
   "id": "fda5d9cc",
   "metadata": {},
   "source": [
    "#### Managing imbalance in the dataset"
   ]
  },
  {
   "cell_type": "code",
   "execution_count": 296,
   "id": "70cc4a35",
   "metadata": {},
   "outputs": [
    {
     "data": {
      "text/plain": [
       "Text(0.5, 0, 'Churn (Yes: 1, No: 0)')"
      ]
     },
     "execution_count": 296,
     "metadata": {},
     "output_type": "execute_result"
    },
    {
     "data": {
      "image/png": "[encoded data removed]",
      "text/plain": [
       "<Figure size 432x288 with 1 Axes>"
      ]
     },
     "metadata": {
      "needs_background": "light"
     },
     "output_type": "display_data"
    }
   ],
   "source": [
    "# Check for the imbalance\n",
    "churnData['Churn'].value_counts().plot(kind='bar')\n",
    "plt.xlabel(\"Churn (Yes: 1, No: 0)\")"
   ]
  },
  {
   "cell_type": "code",
   "execution_count": 304,
   "id": "37438e4b",
   "metadata": {},
   "outputs": [
    {
     "data": {
      "text/plain": [
       "2142    0\n",
       "1623    0\n",
       "6074    1\n",
       "1362    1\n",
       "6754    0\n",
       "Name: Churn, dtype: int64"
      ]
     },
     "execution_count": 304,
     "metadata": {},
     "output_type": "execute_result"
    }
   ],
   "source": [
    "# Use the resampling strategies used in class for upsampling and downsampling to create a balance between the two classes.\n",
    "# Each time fit the model and check the accuracy of the model.\n",
    "\n",
    "y_train.isna().sum(), X_train_scaled.isna().sum()\n",
    "# y_train.isna().sum()\n",
    "y_train.head()"
   ]
  },
  {
   "cell_type": "markdown",
   "id": "f27d947e",
   "metadata": {},
   "source": [
    "### OVERSAMPLING / UNDERSAMPLING"
   ]
  },
  {
   "cell_type": "code",
   "execution_count": 314,
   "id": "d760a77f",
   "metadata": {},
   "outputs": [
    {
     "data": {
      "text/html": [
       "<div>\n",
       "<style scoped>\n",
       "    .dataframe tbody tr th:only-of-type {\n",
       "        vertical-align: middle;\n",
       "    }\n",
       "\n",
       "    .dataframe tbody tr th {\n",
       "        vertical-align: top;\n",
       "    }\n",
       "\n",
       "    .dataframe thead th {\n",
       "        text-align: right;\n",
       "    }\n",
       "</style>\n",
       "<table border=\"1\" class=\"dataframe\">\n",
       "  <thead>\n",
       "    <tr style=\"text-align: right;\">\n",
       "      <th></th>\n",
       "      <th>tenure</th>\n",
       "      <th>SeniorCitizen</th>\n",
       "      <th>MonthlyCharges</th>\n",
       "      <th>TotalCharges</th>\n",
       "      <th>Churn</th>\n",
       "    </tr>\n",
       "  </thead>\n",
       "  <tbody>\n",
       "    <tr>\n",
       "      <th>0</th>\n",
       "      <td>-0.465683</td>\n",
       "      <td>-0.437749</td>\n",
       "      <td>-0.000474</td>\n",
       "      <td>-0.422099</td>\n",
       "      <td>0.0</td>\n",
       "    </tr>\n",
       "    <tr>\n",
       "      <th>1</th>\n",
       "      <td>0.885537</td>\n",
       "      <td>-0.437749</td>\n",
       "      <td>1.074754</td>\n",
       "      <td>1.255366</td>\n",
       "      <td>0.0</td>\n",
       "    </tr>\n",
       "    <tr>\n",
       "      <th>2</th>\n",
       "      <td>-1.284605</td>\n",
       "      <td>-0.437749</td>\n",
       "      <td>-1.376499</td>\n",
       "      <td>-1.002985</td>\n",
       "      <td>1.0</td>\n",
       "    </tr>\n",
       "    <tr>\n",
       "      <th>3</th>\n",
       "      <td>-1.161766</td>\n",
       "      <td>-0.437749</td>\n",
       "      <td>0.177346</td>\n",
       "      <td>-0.908113</td>\n",
       "      <td>0.0</td>\n",
       "    </tr>\n",
       "    <tr>\n",
       "      <th>4</th>\n",
       "      <td>-1.325551</td>\n",
       "      <td>-0.437749</td>\n",
       "      <td>-0.098524</td>\n",
       "      <td>-0.003468</td>\n",
       "      <td>1.0</td>\n",
       "    </tr>\n",
       "    <tr>\n",
       "      <th>5</th>\n",
       "      <td>-1.038928</td>\n",
       "      <td>-0.437749</td>\n",
       "      <td>0.155742</td>\n",
       "      <td>-0.782767</td>\n",
       "      <td>1.0</td>\n",
       "    </tr>\n",
       "    <tr>\n",
       "      <th>6</th>\n",
       "      <td>-0.015277</td>\n",
       "      <td>-0.437749</td>\n",
       "      <td>-1.526067</td>\n",
       "      <td>-0.741811</td>\n",
       "      <td>0.0</td>\n",
       "    </tr>\n",
       "    <tr>\n",
       "      <th>7</th>\n",
       "      <td>1.622566</td>\n",
       "      <td>-0.437749</td>\n",
       "      <td>-1.497815</td>\n",
       "      <td>-0.387666</td>\n",
       "      <td>0.0</td>\n",
       "    </tr>\n",
       "    <tr>\n",
       "      <th>8</th>\n",
       "      <td>-0.547575</td>\n",
       "      <td>-0.437749</td>\n",
       "      <td>-0.838054</td>\n",
       "      <td>-0.689001</td>\n",
       "      <td>NaN</td>\n",
       "    </tr>\n",
       "    <tr>\n",
       "      <th>9</th>\n",
       "      <td>-0.916090</td>\n",
       "      <td>-0.437749</td>\n",
       "      <td>-1.492830</td>\n",
       "      <td>-0.916274</td>\n",
       "      <td>0.0</td>\n",
       "    </tr>\n",
       "    <tr>\n",
       "      <th>10</th>\n",
       "      <td>-0.465683</td>\n",
       "      <td>2.284413</td>\n",
       "      <td>0.140785</td>\n",
       "      <td>-0.361084</td>\n",
       "      <td>0.0</td>\n",
       "    </tr>\n",
       "    <tr>\n",
       "      <th>11</th>\n",
       "      <td>0.517022</td>\n",
       "      <td>2.284413</td>\n",
       "      <td>0.172360</td>\n",
       "      <td>0.341145</td>\n",
       "      <td>0.0</td>\n",
       "    </tr>\n",
       "    <tr>\n",
       "      <th>12</th>\n",
       "      <td>-0.015277</td>\n",
       "      <td>2.284413</td>\n",
       "      <td>-1.497815</td>\n",
       "      <td>-0.753421</td>\n",
       "      <td>0.0</td>\n",
       "    </tr>\n",
       "    <tr>\n",
       "      <th>13</th>\n",
       "      <td>0.312292</td>\n",
       "      <td>-0.437749</td>\n",
       "      <td>1.358933</td>\n",
       "      <td>0.856904</td>\n",
       "      <td>1.0</td>\n",
       "    </tr>\n",
       "    <tr>\n",
       "      <th>14</th>\n",
       "      <td>0.598914</td>\n",
       "      <td>-0.437749</td>\n",
       "      <td>-0.763270</td>\n",
       "      <td>-0.183946</td>\n",
       "      <td>NaN</td>\n",
       "    </tr>\n",
       "    <tr>\n",
       "      <th>15</th>\n",
       "      <td>0.148508</td>\n",
       "      <td>-0.437749</td>\n",
       "      <td>-0.391012</td>\n",
       "      <td>-0.172446</td>\n",
       "      <td>NaN</td>\n",
       "    </tr>\n",
       "    <tr>\n",
       "      <th>16</th>\n",
       "      <td>1.499728</td>\n",
       "      <td>-0.437749</td>\n",
       "      <td>1.337329</td>\n",
       "      <td>2.186549</td>\n",
       "      <td>0.0</td>\n",
       "    </tr>\n",
       "    <tr>\n",
       "      <th>17</th>\n",
       "      <td>1.581620</td>\n",
       "      <td>-0.437749</td>\n",
       "      <td>0.526338</td>\n",
       "      <td>1.509951</td>\n",
       "      <td>NaN</td>\n",
       "    </tr>\n",
       "    <tr>\n",
       "      <th>18</th>\n",
       "      <td>1.581620</td>\n",
       "      <td>-0.437749</td>\n",
       "      <td>-1.336614</td>\n",
       "      <td>-0.256969</td>\n",
       "      <td>1.0</td>\n",
       "    </tr>\n",
       "    <tr>\n",
       "      <th>19</th>\n",
       "      <td>0.107562</td>\n",
       "      <td>-0.437749</td>\n",
       "      <td>-0.389350</td>\n",
       "      <td>-0.159332</td>\n",
       "      <td>NaN</td>\n",
       "    </tr>\n",
       "  </tbody>\n",
       "</table>\n",
       "</div>"
      ],
      "text/plain": [
       "      tenure  SeniorCitizen  MonthlyCharges  TotalCharges  Churn\n",
       "0  -0.465683      -0.437749       -0.000474     -0.422099    0.0\n",
       "1   0.885537      -0.437749        1.074754      1.255366    0.0\n",
       "2  -1.284605      -0.437749       -1.376499     -1.002985    1.0\n",
       "3  -1.161766      -0.437749        0.177346     -0.908113    0.0\n",
       "4  -1.325551      -0.437749       -0.098524     -0.003468    1.0\n",
       "5  -1.038928      -0.437749        0.155742     -0.782767    1.0\n",
       "6  -0.015277      -0.437749       -1.526067     -0.741811    0.0\n",
       "7   1.622566      -0.437749       -1.497815     -0.387666    0.0\n",
       "8  -0.547575      -0.437749       -0.838054     -0.689001    NaN\n",
       "9  -0.916090      -0.437749       -1.492830     -0.916274    0.0\n",
       "10 -0.465683       2.284413        0.140785     -0.361084    0.0\n",
       "11  0.517022       2.284413        0.172360      0.341145    0.0\n",
       "12 -0.015277       2.284413       -1.497815     -0.753421    0.0\n",
       "13  0.312292      -0.437749        1.358933      0.856904    1.0\n",
       "14  0.598914      -0.437749       -0.763270     -0.183946    NaN\n",
       "15  0.148508      -0.437749       -0.391012     -0.172446    NaN\n",
       "16  1.499728      -0.437749        1.337329      2.186549    0.0\n",
       "17  1.581620      -0.437749        0.526338      1.509951    NaN\n",
       "18  1.581620      -0.437749       -1.336614     -0.256969    1.0\n",
       "19  0.107562      -0.437749       -0.389350     -0.159332    NaN"
      ]
     },
     "execution_count": 314,
     "metadata": {},
     "output_type": "execute_result"
    }
   ],
   "source": [
    "trainData = pd.concat([X_train_scaled, y_train], axis=1)\n",
    "# trainData.columns = ['tenure', 'SeniorCitizen', 'MonthlyCharges', 'TotalCharges', 'Churn']\n",
    "trainData.head(20)"
   ]
  },
  {
   "cell_type": "code",
   "execution_count": null,
   "id": "2f196ca7",
   "metadata": {},
   "outputs": [],
   "source": []
  },
  {
   "cell_type": "code",
   "execution_count": 316,
   "id": "6f117e4b",
   "metadata": {},
   "outputs": [
    {
     "name": "stdout",
     "output_type": "stream",
     "text": [
      "Shape of trainData: (5634, 5)\n",
      "Null values in trainData:\n",
      "tenure            0\n",
      "SeniorCitizen     0\n",
      "MonthlyCharges    0\n",
      "TotalCharges      0\n",
      "Churn             0\n",
      "dtype: int64\n"
     ]
    },
    {
     "data": {
      "text/plain": [
       "((5634, 4), (5634,))"
      ]
     },
     "execution_count": 316,
     "metadata": {},
     "output_type": "execute_result"
    }
   ],
   "source": [
    "\n",
    "# X_train_scaled_df = pd.DataFrame(X_train_scaled, columns=X_train.columns)\n",
    "\n",
    "trainData = pd.concat([X_train_scaled.reset_index(drop=True), y_train.reset_index(drop=True)], axis=1)\n",
    "\n",
    "# Display the shape and null values of the resulting DataFrame\n",
    "print(\"Shape of trainData:\", trainData.shape)\n",
    "print(\"Null values in trainData:\")\n",
    "print(trainData.isna().sum())\n",
    "trainData.head(20)\n",
    "# y_train.head(20)\n",
    "X_train_scaled.shape, y_train.shape"
   ]
  },
  {
   "cell_type": "code",
   "execution_count": null,
   "id": "4fd45861",
   "metadata": {},
   "outputs": [],
   "source": []
  },
  {
   "cell_type": "code",
   "execution_count": 317,
   "id": "f15ab031",
   "metadata": {},
   "outputs": [
    {
     "data": {
      "text/plain": [
       "tenure            0\n",
       "SeniorCitizen     0\n",
       "MonthlyCharges    0\n",
       "TotalCharges      0\n",
       "Churn             0\n",
       "dtype: int64"
      ]
     },
     "execution_count": 317,
     "metadata": {},
     "output_type": "execute_result"
    }
   ],
   "source": [
    "trainData.isna().sum()"
   ]
  },
  {
   "cell_type": "markdown",
   "id": "e0768f98",
   "metadata": {},
   "source": [
    "#### OverSampling"
   ]
  },
  {
   "cell_type": "code",
   "execution_count": 318,
   "id": "72e36dac",
   "metadata": {},
   "outputs": [
    {
     "name": "stdout",
     "output_type": "stream",
     "text": [
      "(1496, 5) (4138, 5)\n"
     ]
    },
    {
     "data": {
      "text/plain": [
       "tenure            0\n",
       "SeniorCitizen     0\n",
       "MonthlyCharges    0\n",
       "TotalCharges      0\n",
       "Churn             0\n",
       "dtype: int64"
      ]
     },
     "execution_count": 318,
     "metadata": {},
     "output_type": "execute_result"
    }
   ],
   "source": [
    "yes_churn = trainData[trainData['Churn'] == 1]\n",
    "yes_churn.shape\n",
    "\n",
    "no_churn = trainData[trainData['Churn'] == 0]\n",
    "no_churn.shape\n",
    "\n",
    "print(yes_churn.shape, no_churn.shape)\n",
    "\n",
    "no_churn.isna().sum()"
   ]
  },
  {
   "cell_type": "code",
   "execution_count": 320,
   "id": "87398dd7",
   "metadata": {},
   "outputs": [],
   "source": [
    "# oversample minority\n",
    "from sklearn.utils import resample\n",
    "yes_churn_oversampled = resample(yes_churn, #<- sample from here\n",
    "                                    replace=True, #<- we need replacement, since we don't have enough data otherwise\n",
    "                                    n_samples = len(no_churn),#<- make both sets the same size\n",
    "                                    random_state=0)"
   ]
  },
  {
   "cell_type": "code",
   "execution_count": 322,
   "id": "4afd2289",
   "metadata": {},
   "outputs": [
    {
     "data": {
      "text/plain": [
       "(4138, 5)"
      ]
     },
     "execution_count": 322,
     "metadata": {},
     "output_type": "execute_result"
    }
   ],
   "source": [
    "yes_churn_oversampled.shape"
   ]
  },
  {
   "cell_type": "code",
   "execution_count": 323,
   "id": "b4480f45",
   "metadata": {},
   "outputs": [
    {
     "data": {
      "text/html": [
       "<div>\n",
       "<style scoped>\n",
       "    .dataframe tbody tr th:only-of-type {\n",
       "        vertical-align: middle;\n",
       "    }\n",
       "\n",
       "    .dataframe tbody tr th {\n",
       "        vertical-align: top;\n",
       "    }\n",
       "\n",
       "    .dataframe thead th {\n",
       "        text-align: right;\n",
       "    }\n",
       "</style>\n",
       "<table border=\"1\" class=\"dataframe\">\n",
       "  <thead>\n",
       "    <tr style=\"text-align: right;\">\n",
       "      <th></th>\n",
       "      <th>tenure</th>\n",
       "      <th>SeniorCitizen</th>\n",
       "      <th>MonthlyCharges</th>\n",
       "      <th>TotalCharges</th>\n",
       "      <th>Churn</th>\n",
       "      <th>size</th>\n",
       "    </tr>\n",
       "  </thead>\n",
       "  <tbody>\n",
       "    <tr>\n",
       "      <th>0</th>\n",
       "      <td>-1.284605</td>\n",
       "      <td>-0.437749</td>\n",
       "      <td>-1.529391</td>\n",
       "      <td>-1.005020</td>\n",
       "      <td>1</td>\n",
       "      <td>1</td>\n",
       "    </tr>\n",
       "    <tr>\n",
       "      <th>1</th>\n",
       "      <td>-1.284605</td>\n",
       "      <td>-0.437749</td>\n",
       "      <td>-1.521082</td>\n",
       "      <td>-1.004909</td>\n",
       "      <td>1</td>\n",
       "      <td>1</td>\n",
       "    </tr>\n",
       "    <tr>\n",
       "      <th>2</th>\n",
       "      <td>-1.284605</td>\n",
       "      <td>-0.437749</td>\n",
       "      <td>-1.516096</td>\n",
       "      <td>-1.004843</td>\n",
       "      <td>1</td>\n",
       "      <td>2</td>\n",
       "    </tr>\n",
       "    <tr>\n",
       "      <th>3</th>\n",
       "      <td>-1.284605</td>\n",
       "      <td>-0.437749</td>\n",
       "      <td>-1.514434</td>\n",
       "      <td>-1.004821</td>\n",
       "      <td>1</td>\n",
       "      <td>3</td>\n",
       "    </tr>\n",
       "    <tr>\n",
       "      <th>4</th>\n",
       "      <td>-1.284605</td>\n",
       "      <td>-0.437749</td>\n",
       "      <td>-1.509448</td>\n",
       "      <td>-1.004754</td>\n",
       "      <td>1</td>\n",
       "      <td>5</td>\n",
       "    </tr>\n",
       "    <tr>\n",
       "      <th>...</th>\n",
       "      <td>...</td>\n",
       "      <td>...</td>\n",
       "      <td>...</td>\n",
       "      <td>...</td>\n",
       "      <td>...</td>\n",
       "      <td>...</td>\n",
       "    </tr>\n",
       "    <tr>\n",
       "      <th>1359</th>\n",
       "      <td>1.581620</td>\n",
       "      <td>-0.437749</td>\n",
       "      <td>1.453659</td>\n",
       "      <td>2.388279</td>\n",
       "      <td>1</td>\n",
       "      <td>3</td>\n",
       "    </tr>\n",
       "    <tr>\n",
       "      <th>1360</th>\n",
       "      <td>1.622566</td>\n",
       "      <td>-0.437749</td>\n",
       "      <td>-0.354451</td>\n",
       "      <td>0.728152</td>\n",
       "      <td>1</td>\n",
       "      <td>5</td>\n",
       "    </tr>\n",
       "    <tr>\n",
       "      <th>1361</th>\n",
       "      <td>1.622566</td>\n",
       "      <td>-0.437749</td>\n",
       "      <td>1.280825</td>\n",
       "      <td>2.247520</td>\n",
       "      <td>1</td>\n",
       "      <td>3</td>\n",
       "    </tr>\n",
       "    <tr>\n",
       "      <th>1362</th>\n",
       "      <td>1.622566</td>\n",
       "      <td>-0.437749</td>\n",
       "      <td>1.475264</td>\n",
       "      <td>2.573556</td>\n",
       "      <td>1</td>\n",
       "      <td>3</td>\n",
       "    </tr>\n",
       "    <tr>\n",
       "      <th>1363</th>\n",
       "      <td>1.622566</td>\n",
       "      <td>-0.437749</td>\n",
       "      <td>1.759443</td>\n",
       "      <td>2.827875</td>\n",
       "      <td>1</td>\n",
       "      <td>2</td>\n",
       "    </tr>\n",
       "  </tbody>\n",
       "</table>\n",
       "<p>1364 rows × 6 columns</p>\n",
       "</div>"
      ],
      "text/plain": [
       "        tenure  SeniorCitizen  MonthlyCharges  TotalCharges  Churn  size\n",
       "0    -1.284605      -0.437749       -1.529391     -1.005020      1     1\n",
       "1    -1.284605      -0.437749       -1.521082     -1.004909      1     1\n",
       "2    -1.284605      -0.437749       -1.516096     -1.004843      1     2\n",
       "3    -1.284605      -0.437749       -1.514434     -1.004821      1     3\n",
       "4    -1.284605      -0.437749       -1.509448     -1.004754      1     5\n",
       "...        ...            ...             ...           ...    ...   ...\n",
       "1359  1.581620      -0.437749        1.453659      2.388279      1     3\n",
       "1360  1.622566      -0.437749       -0.354451      0.728152      1     5\n",
       "1361  1.622566      -0.437749        1.280825      2.247520      1     3\n",
       "1362  1.622566      -0.437749        1.475264      2.573556      1     3\n",
       "1363  1.622566      -0.437749        1.759443      2.827875      1     2\n",
       "\n",
       "[1364 rows x 6 columns]"
      ]
     },
     "execution_count": 323,
     "metadata": {},
     "output_type": "execute_result"
    }
   ],
   "source": [
    "yes_churn_oversampled.groupby(yes_churn_oversampled.columns.tolist(),as_index=False).size()"
   ]
  },
  {
   "cell_type": "code",
   "execution_count": 324,
   "id": "ab3af80c",
   "metadata": {},
   "outputs": [
    {
     "data": {
      "text/plain": [
       "(4138, 5)"
      ]
     },
     "metadata": {},
     "output_type": "display_data"
    },
    {
     "data": {
      "text/plain": [
       "(4138, 5)"
      ]
     },
     "metadata": {},
     "output_type": "display_data"
    }
   ],
   "source": [
    "display(no_churn.shape)\n",
    "display(yes_churn_oversampled.shape)"
   ]
  },
  {
   "cell_type": "code",
   "execution_count": 327,
   "id": "85e73609",
   "metadata": {},
   "outputs": [
    {
     "data": {
      "text/html": [
       "<div>\n",
       "<style scoped>\n",
       "    .dataframe tbody tr th:only-of-type {\n",
       "        vertical-align: middle;\n",
       "    }\n",
       "\n",
       "    .dataframe tbody tr th {\n",
       "        vertical-align: top;\n",
       "    }\n",
       "\n",
       "    .dataframe thead th {\n",
       "        text-align: right;\n",
       "    }\n",
       "</style>\n",
       "<table border=\"1\" class=\"dataframe\">\n",
       "  <thead>\n",
       "    <tr style=\"text-align: right;\">\n",
       "      <th></th>\n",
       "      <th>tenure</th>\n",
       "      <th>SeniorCitizen</th>\n",
       "      <th>MonthlyCharges</th>\n",
       "      <th>TotalCharges</th>\n",
       "      <th>Churn</th>\n",
       "    </tr>\n",
       "  </thead>\n",
       "  <tbody>\n",
       "    <tr>\n",
       "      <th>0</th>\n",
       "      <td>-0.465683</td>\n",
       "      <td>-0.437749</td>\n",
       "      <td>-0.000474</td>\n",
       "      <td>-0.422099</td>\n",
       "      <td>0</td>\n",
       "    </tr>\n",
       "    <tr>\n",
       "      <th>1</th>\n",
       "      <td>0.885537</td>\n",
       "      <td>-0.437749</td>\n",
       "      <td>1.074754</td>\n",
       "      <td>1.255366</td>\n",
       "      <td>0</td>\n",
       "    </tr>\n",
       "    <tr>\n",
       "      <th>4</th>\n",
       "      <td>-1.325551</td>\n",
       "      <td>-0.437749</td>\n",
       "      <td>-0.098524</td>\n",
       "      <td>-0.003468</td>\n",
       "      <td>0</td>\n",
       "    </tr>\n",
       "    <tr>\n",
       "      <th>5</th>\n",
       "      <td>-1.038928</td>\n",
       "      <td>-0.437749</td>\n",
       "      <td>0.155742</td>\n",
       "      <td>-0.782767</td>\n",
       "      <td>0</td>\n",
       "    </tr>\n",
       "    <tr>\n",
       "      <th>6</th>\n",
       "      <td>-0.015277</td>\n",
       "      <td>-0.437749</td>\n",
       "      <td>-1.526067</td>\n",
       "      <td>-0.741811</td>\n",
       "      <td>0</td>\n",
       "    </tr>\n",
       "  </tbody>\n",
       "</table>\n",
       "</div>"
      ],
      "text/plain": [
       "     tenure  SeniorCitizen  MonthlyCharges  TotalCharges  Churn\n",
       "0 -0.465683      -0.437749       -0.000474     -0.422099      0\n",
       "1  0.885537      -0.437749        1.074754      1.255366      0\n",
       "4 -1.325551      -0.437749       -0.098524     -0.003468      0\n",
       "5 -1.038928      -0.437749        0.155742     -0.782767      0\n",
       "6 -0.015277      -0.437749       -1.526067     -0.741811      0"
      ]
     },
     "execution_count": 327,
     "metadata": {},
     "output_type": "execute_result"
    }
   ],
   "source": [
    "train_oversampled = pd.concat([no_churn,yes_churn_oversampled],axis=0)\n",
    "train_oversampled.head()"
   ]
  },
  {
   "cell_type": "code",
   "execution_count": 328,
   "id": "9f704cc5",
   "metadata": {},
   "outputs": [],
   "source": [
    "y_train_over = train_oversampled['Churn'].copy()\n",
    "X_train_over = train_oversampled.drop('Churn',axis = 1).copy()"
   ]
  },
  {
   "cell_type": "code",
   "execution_count": 330,
   "id": "ead3d28f",
   "metadata": {},
   "outputs": [
    {
     "name": "stdout",
     "output_type": "stream",
     "text": [
      "precision:  0.5079928952042628\n",
      "recall:  0.7667560321715817\n",
      "f1:  0.6111111111111112\n"
     ]
    }
   ],
   "source": [
    "# Our Logistic Regression, while still not amazing, has improved substantially!\n",
    "# especially at detecting instances of diabetes\n",
    "from sklearn.metrics import f1_score\n",
    "\n",
    "LR = LogisticRegression(max_iter=1000)\n",
    "LR.fit(X_train_over, y_train_over)\n",
    "pred = LR.predict(X_test_scaled)\n",
    "\n",
    "print(\"precision: \",precision_score(y_test,pred))\n",
    "print(\"recall: \",recall_score(y_test,pred))\n",
    "print(\"f1: \",f1_score(y_test,pred))"
   ]
  },
  {
   "cell_type": "code",
   "execution_count": 332,
   "id": "2d8219e5",
   "metadata": {},
   "outputs": [
    {
     "data": {
      "text/plain": [
       "array([[759, 277],\n",
       "       [ 87, 286]], dtype=int64)"
      ]
     },
     "execution_count": 332,
     "metadata": {},
     "output_type": "execute_result"
    }
   ],
   "source": [
    "from sklearn.metrics import confusion_matrix\n",
    "\n",
    "confusion_matrix(y_test,pred)"
   ]
  },
  {
   "cell_type": "code",
   "execution_count": null,
   "id": "c230d7f7",
   "metadata": {},
   "outputs": [],
   "source": []
  },
  {
   "cell_type": "code",
   "execution_count": 335,
   "id": "5709a2fa",
   "metadata": {},
   "outputs": [],
   "source": [
    "def evaluate_model(note, model, X_test, y_test, results):\n",
    "    pred = model.predict(X_test)\n",
    "    score = model.score(X_test, y_test)\n",
    "    precision = precision_score(y_test,pred)\n",
    "    recall = recall_score(y_test, pred)\n",
    "    f1 = f1_score(y_test, pred)\n",
    "    false_negatives = confusion_matrix(y_test, pred)[1][0]\n",
    "    new_result = pd.DataFrame({'note':note,'accuracy':score,'precision':precision,'recall':recall,'f1_score':f1,'false_negatives':false_negatives},index=[0])\n",
    "    return pd.concat([results,new_result],axis=0)\n",
    "\n",
    "results = pd.DataFrame(columns=['note','accuracy','precision','recall','f1_score', 'false_negatives'])"
   ]
  },
  {
   "cell_type": "code",
   "execution_count": 336,
   "id": "c20762ee",
   "metadata": {},
   "outputs": [
    {
     "data": {
      "text/html": [
       "<div>\n",
       "<style scoped>\n",
       "    .dataframe tbody tr th:only-of-type {\n",
       "        vertical-align: middle;\n",
       "    }\n",
       "\n",
       "    .dataframe tbody tr th {\n",
       "        vertical-align: top;\n",
       "    }\n",
       "\n",
       "    .dataframe thead th {\n",
       "        text-align: right;\n",
       "    }\n",
       "</style>\n",
       "<table border=\"1\" class=\"dataframe\">\n",
       "  <thead>\n",
       "    <tr style=\"text-align: right;\">\n",
       "      <th></th>\n",
       "      <th>note</th>\n",
       "      <th>accuracy</th>\n",
       "      <th>precision</th>\n",
       "      <th>recall</th>\n",
       "      <th>f1_score</th>\n",
       "      <th>false_negatives</th>\n",
       "    </tr>\n",
       "  </thead>\n",
       "  <tbody>\n",
       "    <tr>\n",
       "      <th>0</th>\n",
       "      <td>Oversampling</td>\n",
       "      <td>0.741661</td>\n",
       "      <td>0.507993</td>\n",
       "      <td>0.766756</td>\n",
       "      <td>0.611111</td>\n",
       "      <td>87</td>\n",
       "    </tr>\n",
       "  </tbody>\n",
       "</table>\n",
       "</div>"
      ],
      "text/plain": [
       "           note  accuracy  precision    recall  f1_score false_negatives\n",
       "0  Oversampling  0.741661   0.507993  0.766756  0.611111              87"
      ]
     },
     "execution_count": 336,
     "metadata": {},
     "output_type": "execute_result"
    }
   ],
   "source": [
    "from sklearn.metrics import accuracy_score, precision_score, recall_score\n",
    "\n",
    "results = evaluate_model('Oversampling', LR, X_test_scaled, y_test, results)\n",
    "results"
   ]
  },
  {
   "cell_type": "markdown",
   "id": "67e01c6c",
   "metadata": {},
   "source": [
    "### Undersampling"
   ]
  },
  {
   "cell_type": "code",
   "execution_count": 337,
   "id": "4e2779e2",
   "metadata": {},
   "outputs": [],
   "source": [
    "# we already split our training data on the target variable...\n",
    "\n",
    "# undersample majority\n",
    "no_churn_undersampled = resample(no_churn, #<- downsample from here\n",
    "                                    replace=False, #<- no need to reuse data now, we have an abundance\n",
    "                                    n_samples = len(yes_churn),\n",
    "                                    random_state=0)"
   ]
  },
  {
   "cell_type": "code",
   "execution_count": 339,
   "id": "e4128bbf",
   "metadata": {},
   "outputs": [
    {
     "data": {
      "text/plain": [
       "(1496, 5)"
      ]
     },
     "metadata": {},
     "output_type": "display_data"
    },
    {
     "data": {
      "text/plain": [
       "(1496, 5)"
      ]
     },
     "metadata": {},
     "output_type": "display_data"
    }
   ],
   "source": [
    "# both sets are the same size\n",
    "# small, but balanced, and no repeated data\n",
    "display(yes_churn.shape)\n",
    "display(no_churn_undersampled.shape)"
   ]
  },
  {
   "cell_type": "code",
   "execution_count": 341,
   "id": "7bdd4108",
   "metadata": {},
   "outputs": [
    {
     "data": {
      "text/html": [
       "<div>\n",
       "<style scoped>\n",
       "    .dataframe tbody tr th:only-of-type {\n",
       "        vertical-align: middle;\n",
       "    }\n",
       "\n",
       "    .dataframe tbody tr th {\n",
       "        vertical-align: top;\n",
       "    }\n",
       "\n",
       "    .dataframe thead th {\n",
       "        text-align: right;\n",
       "    }\n",
       "</style>\n",
       "<table border=\"1\" class=\"dataframe\">\n",
       "  <thead>\n",
       "    <tr style=\"text-align: right;\">\n",
       "      <th></th>\n",
       "      <th>tenure</th>\n",
       "      <th>SeniorCitizen</th>\n",
       "      <th>MonthlyCharges</th>\n",
       "      <th>TotalCharges</th>\n",
       "      <th>Churn</th>\n",
       "    </tr>\n",
       "  </thead>\n",
       "  <tbody>\n",
       "    <tr>\n",
       "      <th>2</th>\n",
       "      <td>-1.284605</td>\n",
       "      <td>-0.437749</td>\n",
       "      <td>-1.376499</td>\n",
       "      <td>-1.002985</td>\n",
       "      <td>1</td>\n",
       "    </tr>\n",
       "    <tr>\n",
       "      <th>3</th>\n",
       "      <td>-1.161766</td>\n",
       "      <td>-0.437749</td>\n",
       "      <td>0.177346</td>\n",
       "      <td>-0.908113</td>\n",
       "      <td>1</td>\n",
       "    </tr>\n",
       "    <tr>\n",
       "      <th>8</th>\n",
       "      <td>-0.547575</td>\n",
       "      <td>-0.437749</td>\n",
       "      <td>-0.838054</td>\n",
       "      <td>-0.689001</td>\n",
       "      <td>1</td>\n",
       "    </tr>\n",
       "    <tr>\n",
       "      <th>10</th>\n",
       "      <td>-0.465683</td>\n",
       "      <td>2.284413</td>\n",
       "      <td>0.140785</td>\n",
       "      <td>-0.361084</td>\n",
       "      <td>1</td>\n",
       "    </tr>\n",
       "    <tr>\n",
       "      <th>26</th>\n",
       "      <td>-0.997982</td>\n",
       "      <td>2.284413</td>\n",
       "      <td>0.905243</td>\n",
       "      <td>-0.690505</td>\n",
       "      <td>1</td>\n",
       "    </tr>\n",
       "  </tbody>\n",
       "</table>\n",
       "</div>"
      ],
      "text/plain": [
       "      tenure  SeniorCitizen  MonthlyCharges  TotalCharges  Churn\n",
       "2  -1.284605      -0.437749       -1.376499     -1.002985      1\n",
       "3  -1.161766      -0.437749        0.177346     -0.908113      1\n",
       "8  -0.547575      -0.437749       -0.838054     -0.689001      1\n",
       "10 -0.465683       2.284413        0.140785     -0.361084      1\n",
       "26 -0.997982       2.284413        0.905243     -0.690505      1"
      ]
     },
     "execution_count": 341,
     "metadata": {},
     "output_type": "execute_result"
    }
   ],
   "source": [
    "train_undersampled = pd.concat([yes_churn,no_churn_undersampled])\n",
    "train_undersampled.head()"
   ]
  },
  {
   "cell_type": "code",
   "execution_count": 343,
   "id": "09f2d886",
   "metadata": {},
   "outputs": [],
   "source": [
    "y_train_under = train_undersampled['Churn'].copy()\n",
    "X_train_under = train_undersampled.drop('Churn',axis = 1).copy()"
   ]
  },
  {
   "cell_type": "code",
   "execution_count": 344,
   "id": "6c9dcb98",
   "metadata": {},
   "outputs": [
    {
     "data": {
      "text/html": [
       "<div>\n",
       "<style scoped>\n",
       "    .dataframe tbody tr th:only-of-type {\n",
       "        vertical-align: middle;\n",
       "    }\n",
       "\n",
       "    .dataframe tbody tr th {\n",
       "        vertical-align: top;\n",
       "    }\n",
       "\n",
       "    .dataframe thead th {\n",
       "        text-align: right;\n",
       "    }\n",
       "</style>\n",
       "<table border=\"1\" class=\"dataframe\">\n",
       "  <thead>\n",
       "    <tr style=\"text-align: right;\">\n",
       "      <th></th>\n",
       "      <th>note</th>\n",
       "      <th>accuracy</th>\n",
       "      <th>precision</th>\n",
       "      <th>recall</th>\n",
       "      <th>f1_score</th>\n",
       "      <th>false_negatives</th>\n",
       "    </tr>\n",
       "  </thead>\n",
       "  <tbody>\n",
       "    <tr>\n",
       "      <th>0</th>\n",
       "      <td>Oversampling</td>\n",
       "      <td>0.741661</td>\n",
       "      <td>0.507993</td>\n",
       "      <td>0.766756</td>\n",
       "      <td>0.611111</td>\n",
       "      <td>87</td>\n",
       "    </tr>\n",
       "    <tr>\n",
       "      <th>0</th>\n",
       "      <td>Undersampling</td>\n",
       "      <td>0.741661</td>\n",
       "      <td>0.507881</td>\n",
       "      <td>0.777480</td>\n",
       "      <td>0.614407</td>\n",
       "      <td>83</td>\n",
       "    </tr>\n",
       "  </tbody>\n",
       "</table>\n",
       "</div>"
      ],
      "text/plain": [
       "            note  accuracy  precision    recall  f1_score false_negatives\n",
       "0   Oversampling  0.741661   0.507993  0.766756  0.611111              87\n",
       "0  Undersampling  0.741661   0.507881  0.777480  0.614407              83"
      ]
     },
     "execution_count": 344,
     "metadata": {},
     "output_type": "execute_result"
    }
   ],
   "source": [
    "# Still a slight improvement!\n",
    "from sklearn.linear_model import LogisticRegression\n",
    "\n",
    "LR = LogisticRegression(max_iter=1000)\n",
    "LR.fit(X_train_under, y_train_under)\n",
    "pred = LR.predict(X_test_scaled)\n",
    "\n",
    "results = evaluate_model('Undersampling', LR, X_test_scaled, y_test, results)\n",
    "results"
   ]
  },
  {
   "cell_type": "markdown",
   "id": "58b12bbf",
   "metadata": {},
   "source": [
    "### SMOTE"
   ]
  },
  {
   "cell_type": "code",
   "execution_count": 345,
   "id": "aa7d73b6",
   "metadata": {},
   "outputs": [],
   "source": [
    "from imblearn.over_sampling import SMOTE"
   ]
  },
  {
   "cell_type": "code",
   "execution_count": 346,
   "id": "c2012c5b",
   "metadata": {},
   "outputs": [],
   "source": [
    "sm = SMOTE(random_state=100,k_neighbors=9)\n",
    "X_train_SMOTE,y_train_SMOTE = sm.fit_resample(X_train_scaled,y_train)"
   ]
  },
  {
   "cell_type": "code",
   "execution_count": 347,
   "id": "abb577e7",
   "metadata": {},
   "outputs": [
    {
     "data": {
      "text/html": [
       "<div>\n",
       "<style scoped>\n",
       "    .dataframe tbody tr th:only-of-type {\n",
       "        vertical-align: middle;\n",
       "    }\n",
       "\n",
       "    .dataframe tbody tr th {\n",
       "        vertical-align: top;\n",
       "    }\n",
       "\n",
       "    .dataframe thead th {\n",
       "        text-align: right;\n",
       "    }\n",
       "</style>\n",
       "<table border=\"1\" class=\"dataframe\">\n",
       "  <thead>\n",
       "    <tr style=\"text-align: right;\">\n",
       "      <th></th>\n",
       "      <th>note</th>\n",
       "      <th>accuracy</th>\n",
       "      <th>precision</th>\n",
       "      <th>recall</th>\n",
       "      <th>f1_score</th>\n",
       "      <th>false_negatives</th>\n",
       "    </tr>\n",
       "  </thead>\n",
       "  <tbody>\n",
       "    <tr>\n",
       "      <th>0</th>\n",
       "      <td>Oversampling</td>\n",
       "      <td>0.741661</td>\n",
       "      <td>0.507993</td>\n",
       "      <td>0.766756</td>\n",
       "      <td>0.611111</td>\n",
       "      <td>87</td>\n",
       "    </tr>\n",
       "    <tr>\n",
       "      <th>0</th>\n",
       "      <td>Undersampling</td>\n",
       "      <td>0.741661</td>\n",
       "      <td>0.507881</td>\n",
       "      <td>0.777480</td>\n",
       "      <td>0.614407</td>\n",
       "      <td>83</td>\n",
       "    </tr>\n",
       "    <tr>\n",
       "      <th>0</th>\n",
       "      <td>SMOTE</td>\n",
       "      <td>0.745209</td>\n",
       "      <td>0.512456</td>\n",
       "      <td>0.772118</td>\n",
       "      <td>0.616043</td>\n",
       "      <td>85</td>\n",
       "    </tr>\n",
       "  </tbody>\n",
       "</table>\n",
       "</div>"
      ],
      "text/plain": [
       "            note  accuracy  precision    recall  f1_score false_negatives\n",
       "0   Oversampling  0.741661   0.507993  0.766756  0.611111              87\n",
       "0  Undersampling  0.741661   0.507881  0.777480  0.614407              83\n",
       "0          SMOTE  0.745209   0.512456  0.772118  0.616043              85"
      ]
     },
     "execution_count": 347,
     "metadata": {},
     "output_type": "execute_result"
    }
   ],
   "source": [
    "# yet another small improvement, but bear in mind that we saved 12 hypothetical people with\n",
    "# these \"small improvements\"\n",
    "from sklearn.linear_model import LogisticRegression\n",
    "\n",
    "LR = LogisticRegression(max_iter=1000)\n",
    "LR.fit(X_train_SMOTE, y_train_SMOTE)\n",
    "pred = LR.predict(X_test_scaled)\n",
    "\n",
    "results = evaluate_model('SMOTE', LR, X_test_scaled, y_test, results)\n",
    "results"
   ]
  },
  {
   "cell_type": "code",
   "execution_count": 348,
   "id": "a40277f0",
   "metadata": {},
   "outputs": [
    {
     "data": {
      "text/plain": [
       "array([[762, 274],\n",
       "       [ 85, 288]], dtype=int64)"
      ]
     },
     "execution_count": 348,
     "metadata": {},
     "output_type": "execute_result"
    }
   ],
   "source": [
    "confusion_matrix(y_test,pred)"
   ]
  }
 ],
 "metadata": {
  "kernelspec": {
   "display_name": "Python 3 (ipykernel)",
   "language": "python",
   "name": "python3"
  },
  "language_info": {
   "codemirror_mode": {
    "name": "ipython",
    "version": 3
   },
   "file_extension": ".py",
   "mimetype": "text/x-python",
   "name": "python",
   "nbconvert_exporter": "python",
   "pygments_lexer": "ipython3",
   "version": "3.9.7"
  }
 },
 "nbformat": 4,
 "nbformat_minor": 5
}
